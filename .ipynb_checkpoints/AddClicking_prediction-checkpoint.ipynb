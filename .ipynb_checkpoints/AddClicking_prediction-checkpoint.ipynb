{
 "cells": [
  {
   "cell_type": "code",
   "execution_count": 196,
   "metadata": {},
   "outputs": [],
   "source": [
    "import os\n",
    "import numpy as np\n",
    "import pandas as pd\n",
    "import tensorflow as tf\n",
    "from sklearn.utils import shuffle\n",
    "from sklearn.model_selection import train_test_split\n",
    "from tensorflow.keras.utils import to_categorical\n",
    "import matplotlib.pyplot as plt\n",
    "import tqdm as tqdm"
   ]
  },
  {
   "cell_type": "code",
   "execution_count": 119,
   "metadata": {},
   "outputs": [],
   "source": [
    "import datetime\n",
    "import time\n",
    "def convert_to_sec(l):\n",
    "    l = l.split(':')\n",
    "    t = int(l[2])\n",
    "    t += int(l[1])*60\n",
    "    t += int(l[0])*3600\n",
    "    return t\n",
    "def get_time_difference(x,y):\n",
    "    x = x.split(' ')\n",
    "    y = y.split(' ')\n",
    "    X = time.mktime(datetime.datetime.strptime(x[0], \"%Y-%m-%d\").timetuple())\n",
    "    Y = time.mktime(datetime.datetime.strptime(y[0], \"%Y-%m-%d\").timetuple())\n",
    "    a = (convert_to_sec(x[1]) - convert_to_sec(y[1]))\n",
    "    return (X-Y + a)"
   ]
  },
  {
   "cell_type": "code",
   "execution_count": 118,
   "metadata": {},
   "outputs": [
    {
     "name": "stdout",
     "output_type": "stream",
     "text": [
      "29640.0\n"
     ]
    }
   ],
   "source": [
    "print(get_time_difference(impression_info['impression_time'][387],impression_info['impression_time'][5]))"
   ]
  },
  {
   "cell_type": "code",
   "execution_count": 142,
   "metadata": {},
   "outputs": [],
   "source": [
    "impression_info = pd.read_csv('train.csv')\n",
    "user_info = pd.read_csv('view_log.csv')\n",
    "item_info = pd.read_csv('item_data.csv')"
   ]
  },
  {
   "cell_type": "code",
   "execution_count": 143,
   "metadata": {},
   "outputs": [
    {
     "data": {
      "text/html": [
       "<div>\n",
       "<style scoped>\n",
       "    .dataframe tbody tr th:only-of-type {\n",
       "        vertical-align: middle;\n",
       "    }\n",
       "\n",
       "    .dataframe tbody tr th {\n",
       "        vertical-align: top;\n",
       "    }\n",
       "\n",
       "    .dataframe thead th {\n",
       "        text-align: right;\n",
       "    }\n",
       "</style>\n",
       "<table border=\"1\" class=\"dataframe\">\n",
       "  <thead>\n",
       "    <tr style=\"text-align: right;\">\n",
       "      <th></th>\n",
       "      <th>impression_id</th>\n",
       "      <th>impression_time</th>\n",
       "      <th>user_id</th>\n",
       "      <th>app_code</th>\n",
       "      <th>os_version</th>\n",
       "      <th>is_4G</th>\n",
       "      <th>is_click</th>\n",
       "    </tr>\n",
       "  </thead>\n",
       "  <tbody>\n",
       "    <tr>\n",
       "      <th>104312</th>\n",
       "      <td>5f98c2c31a8006e510448c02ec74d50f</td>\n",
       "      <td>2018-11-26 23:30:00</td>\n",
       "      <td>0</td>\n",
       "      <td>207</td>\n",
       "      <td>old</td>\n",
       "      <td>0</td>\n",
       "      <td>0</td>\n",
       "    </tr>\n",
       "    <tr>\n",
       "      <th>24562</th>\n",
       "      <td>010ed37e44e2fdc175b4c5c6c930805a</td>\n",
       "      <td>2018-11-20 20:53:00</td>\n",
       "      <td>2</td>\n",
       "      <td>190</td>\n",
       "      <td>intermediate</td>\n",
       "      <td>0</td>\n",
       "      <td>0</td>\n",
       "    </tr>\n",
       "    <tr>\n",
       "      <th>78666</th>\n",
       "      <td>577c63f9937fa0e8d4650ddf1510a03f</td>\n",
       "      <td>2018-11-21 21:47:00</td>\n",
       "      <td>2</td>\n",
       "      <td>190</td>\n",
       "      <td>intermediate</td>\n",
       "      <td>0</td>\n",
       "      <td>0</td>\n",
       "    </tr>\n",
       "    <tr>\n",
       "      <th>49515</th>\n",
       "      <td>2b12c0d47f5821a5adb3bfd973d0f708</td>\n",
       "      <td>2018-11-19 20:49:00</td>\n",
       "      <td>2</td>\n",
       "      <td>190</td>\n",
       "      <td>intermediate</td>\n",
       "      <td>0</td>\n",
       "      <td>0</td>\n",
       "    </tr>\n",
       "    <tr>\n",
       "      <th>54202</th>\n",
       "      <td>f85e4bf0e34f3ee66add56229845e4db</td>\n",
       "      <td>2018-11-20 20:29:00</td>\n",
       "      <td>2</td>\n",
       "      <td>190</td>\n",
       "      <td>intermediate</td>\n",
       "      <td>0</td>\n",
       "      <td>0</td>\n",
       "    </tr>\n",
       "  </tbody>\n",
       "</table>\n",
       "</div>"
      ],
      "text/plain": [
       "                           impression_id      impression_time  user_id  \\\n",
       "104312  5f98c2c31a8006e510448c02ec74d50f  2018-11-26 23:30:00        0   \n",
       "24562   010ed37e44e2fdc175b4c5c6c930805a  2018-11-20 20:53:00        2   \n",
       "78666   577c63f9937fa0e8d4650ddf1510a03f  2018-11-21 21:47:00        2   \n",
       "49515   2b12c0d47f5821a5adb3bfd973d0f708  2018-11-19 20:49:00        2   \n",
       "54202   f85e4bf0e34f3ee66add56229845e4db  2018-11-20 20:29:00        2   \n",
       "\n",
       "        app_code    os_version  is_4G  is_click  \n",
       "104312       207           old      0         0  \n",
       "24562        190  intermediate      0         0  \n",
       "78666        190  intermediate      0         0  \n",
       "49515        190  intermediate      0         0  \n",
       "54202        190  intermediate      0         0  "
      ]
     },
     "execution_count": 143,
     "metadata": {},
     "output_type": "execute_result"
    }
   ],
   "source": [
    "impression_info.sort_values(\"user_id\",axis=0,ascending=True,inplace=True)\n",
    "impression_info.head()"
   ]
  },
  {
   "cell_type": "code",
   "execution_count": 144,
   "metadata": {},
   "outputs": [
    {
     "data": {
      "text/html": [
       "<div>\n",
       "<style scoped>\n",
       "    .dataframe tbody tr th:only-of-type {\n",
       "        vertical-align: middle;\n",
       "    }\n",
       "\n",
       "    .dataframe tbody tr th {\n",
       "        vertical-align: top;\n",
       "    }\n",
       "\n",
       "    .dataframe thead th {\n",
       "        text-align: right;\n",
       "    }\n",
       "</style>\n",
       "<table border=\"1\" class=\"dataframe\">\n",
       "  <thead>\n",
       "    <tr style=\"text-align: right;\">\n",
       "      <th></th>\n",
       "      <th>server_time</th>\n",
       "      <th>device_type</th>\n",
       "      <th>session_id</th>\n",
       "      <th>user_id</th>\n",
       "      <th>item_id</th>\n",
       "    </tr>\n",
       "  </thead>\n",
       "  <tbody>\n",
       "    <tr>\n",
       "      <th>1355945</th>\n",
       "      <td>2018-11-11 10:23:00</td>\n",
       "      <td>android</td>\n",
       "      <td>143955</td>\n",
       "      <td>0</td>\n",
       "      <td>120442</td>\n",
       "    </tr>\n",
       "    <tr>\n",
       "      <th>164774</th>\n",
       "      <td>2018-10-18 14:47:00</td>\n",
       "      <td>android</td>\n",
       "      <td>268465</td>\n",
       "      <td>0</td>\n",
       "      <td>44459</td>\n",
       "    </tr>\n",
       "    <tr>\n",
       "      <th>2761690</th>\n",
       "      <td>2018-12-06 06:33:00</td>\n",
       "      <td>android</td>\n",
       "      <td>144465</td>\n",
       "      <td>0</td>\n",
       "      <td>126865</td>\n",
       "    </tr>\n",
       "    <tr>\n",
       "      <th>164729</th>\n",
       "      <td>2018-10-18 14:46:00</td>\n",
       "      <td>android</td>\n",
       "      <td>268465</td>\n",
       "      <td>0</td>\n",
       "      <td>44459</td>\n",
       "    </tr>\n",
       "    <tr>\n",
       "      <th>164700</th>\n",
       "      <td>2018-10-18 14:46:00</td>\n",
       "      <td>android</td>\n",
       "      <td>268465</td>\n",
       "      <td>0</td>\n",
       "      <td>44459</td>\n",
       "    </tr>\n",
       "  </tbody>\n",
       "</table>\n",
       "</div>"
      ],
      "text/plain": [
       "                 server_time device_type  session_id  user_id  item_id\n",
       "1355945  2018-11-11 10:23:00     android      143955        0   120442\n",
       "164774   2018-10-18 14:47:00     android      268465        0    44459\n",
       "2761690  2018-12-06 06:33:00     android      144465        0   126865\n",
       "164729   2018-10-18 14:46:00     android      268465        0    44459\n",
       "164700   2018-10-18 14:46:00     android      268465        0    44459"
      ]
     },
     "execution_count": 144,
     "metadata": {},
     "output_type": "execute_result"
    }
   ],
   "source": [
    "user_info.sort_values(\"user_id\",axis=0,ascending=True,inplace=True)\n",
    "user_info.head()"
   ]
  },
  {
   "cell_type": "code",
   "execution_count": 170,
   "metadata": {},
   "outputs": [
    {
     "data": {
      "text/plain": [
       "3"
      ]
     },
     "execution_count": 170,
     "metadata": {},
     "output_type": "execute_result"
    }
   ],
   "source": [
    "user_info['device_type'].nunique()"
   ]
  },
  {
   "cell_type": "code",
   "execution_count": 145,
   "metadata": {},
   "outputs": [
    {
     "data": {
      "text/html": [
       "<div>\n",
       "<style scoped>\n",
       "    .dataframe tbody tr th:only-of-type {\n",
       "        vertical-align: middle;\n",
       "    }\n",
       "\n",
       "    .dataframe tbody tr th {\n",
       "        vertical-align: top;\n",
       "    }\n",
       "\n",
       "    .dataframe thead th {\n",
       "        text-align: right;\n",
       "    }\n",
       "</style>\n",
       "<table border=\"1\" class=\"dataframe\">\n",
       "  <thead>\n",
       "    <tr style=\"text-align: right;\">\n",
       "      <th></th>\n",
       "      <th>item_id</th>\n",
       "      <th>item_price</th>\n",
       "      <th>category_1</th>\n",
       "      <th>category_2</th>\n",
       "      <th>category_3</th>\n",
       "      <th>product_type</th>\n",
       "    </tr>\n",
       "  </thead>\n",
       "  <tbody>\n",
       "    <tr>\n",
       "      <th>0</th>\n",
       "      <td>26880</td>\n",
       "      <td>4602</td>\n",
       "      <td>11</td>\n",
       "      <td>35</td>\n",
       "      <td>20</td>\n",
       "      <td>3040</td>\n",
       "    </tr>\n",
       "    <tr>\n",
       "      <th>1</th>\n",
       "      <td>54939</td>\n",
       "      <td>3513</td>\n",
       "      <td>12</td>\n",
       "      <td>57</td>\n",
       "      <td>85</td>\n",
       "      <td>6822</td>\n",
       "    </tr>\n",
       "    <tr>\n",
       "      <th>2</th>\n",
       "      <td>40383</td>\n",
       "      <td>825</td>\n",
       "      <td>17</td>\n",
       "      <td>8</td>\n",
       "      <td>279</td>\n",
       "      <td>1619</td>\n",
       "    </tr>\n",
       "    <tr>\n",
       "      <th>3</th>\n",
       "      <td>8777</td>\n",
       "      <td>2355</td>\n",
       "      <td>13</td>\n",
       "      <td>58</td>\n",
       "      <td>189</td>\n",
       "      <td>5264</td>\n",
       "    </tr>\n",
       "    <tr>\n",
       "      <th>4</th>\n",
       "      <td>113705</td>\n",
       "      <td>1267</td>\n",
       "      <td>17</td>\n",
       "      <td>39</td>\n",
       "      <td>151</td>\n",
       "      <td>10239</td>\n",
       "    </tr>\n",
       "  </tbody>\n",
       "</table>\n",
       "</div>"
      ],
      "text/plain": [
       "   item_id  item_price  category_1  category_2  category_3  product_type\n",
       "0    26880        4602          11          35          20          3040\n",
       "1    54939        3513          12          57          85          6822\n",
       "2    40383         825          17           8         279          1619\n",
       "3     8777        2355          13          58         189          5264\n",
       "4   113705        1267          17          39         151         10239"
      ]
     },
     "execution_count": 145,
     "metadata": {},
     "output_type": "execute_result"
    }
   ],
   "source": [
    "item_info.head()"
   ]
  },
  {
   "cell_type": "code",
   "execution_count": 179,
   "metadata": {},
   "outputs": [
    {
     "data": {
      "text/plain": [
       "(132761,)"
      ]
     },
     "execution_count": 179,
     "metadata": {},
     "output_type": "execute_result"
    }
   ],
   "source": []
  },
  {
   "cell_type": "code",
   "execution_count": 146,
   "metadata": {},
   "outputs": [
    {
     "name": "stdout",
     "output_type": "stream",
     "text": [
      "(237609, 7) (3118622, 5) (132761, 6)\n"
     ]
    }
   ],
   "source": [
    "print(impression_info.shape,user_info.shape,item_info.shape)"
   ]
  },
  {
   "cell_type": "code",
   "execution_count": 147,
   "metadata": {},
   "outputs": [],
   "source": [
    "impression_info.sort_values(by =['user_id','impression_time'],inplace=True)"
   ]
  },
  {
   "cell_type": "code",
   "execution_count": 148,
   "metadata": {},
   "outputs": [],
   "source": [
    "user_info.sort_values(by =['user_id','server_time'],inplace=True)"
   ]
  },
  {
   "cell_type": "code",
   "execution_count": 151,
   "metadata": {
    "scrolled": false
   },
   "outputs": [
    {
     "name": "stdout",
     "output_type": "stream",
     "text": [
      "0\n"
     ]
    }
   ],
   "source": [
    "cnt = 0\n",
    "for user in impression_info['user_id']:\n",
    "    if(user not in user_info['user_id']):\n",
    "        cnt+=1\n",
    "print(cnt)"
   ]
  },
  {
   "cell_type": "code",
   "execution_count": 160,
   "metadata": {},
   "outputs": [
    {
     "data": {
      "text/plain": [
       "0"
      ]
     },
     "execution_count": 160,
     "metadata": {},
     "output_type": "execute_result"
    }
   ],
   "source": [
    "user_info['user_id'].values[24]"
   ]
  },
  {
   "cell_type": "code",
   "execution_count": 161,
   "metadata": {},
   "outputs": [],
   "source": [
    "ind1 = 0\n",
    "log_time = []\n",
    "is_new = []\n",
    "curr_item = []\n",
    "s = \"-1\"\n",
    "prev_user = -1\n",
    "prev_item = -1\n",
    "for ind in range(0,impression_info.shape[0]):\n",
    "    if(ind1==user_info.shape[0]):\n",
    "        break\n",
    "    if(prev_user!=impression_info['user_id'].values[ind]):\n",
    "        s=\"-1\"\n",
    "        prev_user = -1\n",
    "        prev_item=  -1\n",
    "    while(impression_info['user_id'].values[ind]>user_info['user_id'].values[ind1]):\n",
    "        ind1+=1\n",
    "    while(get_time_difference(impression_info['impression_time'].values[ind],user_info['server_time'].values[ind1])>=0\n",
    "         and impression_info['user_id'].values[ind]==user_info['user_id'].values[ind1]):\n",
    "        s = user_info['server_time'].values[ind1]\n",
    "        prev_user = user_info['user_id'].values[ind1]\n",
    "        prev_item = user_info['item_id'].values[ind1]\n",
    "        ind1+=1\n",
    "    if(s==\"-1\"):\n",
    "        log_time.append(-1)\n",
    "        is_new.append(1)\n",
    "        curr_item.append(prev_item)\n",
    "    else:\n",
    "        is_new.append(0)\n",
    "        log_time.append(get_time_difference(impression_info['impression_time'].values[ind],s))\n",
    "        curr_item.append(prev_item)\n",
    "        ind1-=1"
   ]
  },
  {
   "cell_type": "code",
   "execution_count": 162,
   "metadata": {},
   "outputs": [
    {
     "name": "stdout",
     "output_type": "stream",
     "text": [
      "1587\n",
      "(237609, 7)\n"
     ]
    }
   ],
   "source": [
    "cnt=0\n",
    "for i in log_time:\n",
    "    if(i==-1):\n",
    "        cnt+=1\n",
    "print(cnt)\n",
    "print(impression_info.shape)"
   ]
  },
  {
   "cell_type": "code",
   "execution_count": 166,
   "metadata": {},
   "outputs": [
    {
     "name": "stdout",
     "output_type": "stream",
     "text": [
      "1530\n"
     ]
    }
   ],
   "source": [
    "labels = []\n",
    "for ind in range(0,len(log_time)):\n",
    "    if(log_time[ind]==-1):\n",
    "        labels.append(impression_info['is_click'].values[ind])\n",
    "cnt=0\n",
    "for i in labels:\n",
    "    if(i==0):\n",
    "        cnt+=1\n",
    "print(cnt)"
   ]
  },
  {
   "cell_type": "code",
   "execution_count": 173,
   "metadata": {},
   "outputs": [],
   "source": [
    "data = impression_info\n",
    "data['log_time'] = log_time\n",
    "data['item_id'] = curr_item"
   ]
  },
  {
   "cell_type": "code",
   "execution_count": 182,
   "metadata": {},
   "outputs": [],
   "source": [
    "data = pd.merge(data,item_info,on='item_id')"
   ]
  },
  {
   "cell_type": "code",
   "execution_count": 205,
   "metadata": {},
   "outputs": [],
   "source": [
    "data1.to_csv('Further_Prepreocessed_data.csv')"
   ]
  },
  {
   "cell_type": "code",
   "execution_count": 191,
   "metadata": {},
   "outputs": [],
   "source": [
    "data1 = data.drop(columns = ['impression_id','impression_time'])"
   ]
  },
  {
   "cell_type": "code",
   "execution_count": 192,
   "metadata": {},
   "outputs": [
    {
     "data": {
      "text/html": [
       "<div>\n",
       "<style scoped>\n",
       "    .dataframe tbody tr th:only-of-type {\n",
       "        vertical-align: middle;\n",
       "    }\n",
       "\n",
       "    .dataframe tbody tr th {\n",
       "        vertical-align: top;\n",
       "    }\n",
       "\n",
       "    .dataframe thead th {\n",
       "        text-align: right;\n",
       "    }\n",
       "</style>\n",
       "<table border=\"1\" class=\"dataframe\">\n",
       "  <thead>\n",
       "    <tr style=\"text-align: right;\">\n",
       "      <th></th>\n",
       "      <th>user_id</th>\n",
       "      <th>app_code</th>\n",
       "      <th>os_version</th>\n",
       "      <th>is_4G</th>\n",
       "      <th>is_click</th>\n",
       "      <th>log_time</th>\n",
       "      <th>item_id</th>\n",
       "      <th>item_price</th>\n",
       "      <th>category_1</th>\n",
       "      <th>category_2</th>\n",
       "      <th>category_3</th>\n",
       "      <th>product_type</th>\n",
       "    </tr>\n",
       "  </thead>\n",
       "  <tbody>\n",
       "    <tr>\n",
       "      <th>0</th>\n",
       "      <td>0</td>\n",
       "      <td>207</td>\n",
       "      <td>old</td>\n",
       "      <td>0</td>\n",
       "      <td>0</td>\n",
       "      <td>28560.0</td>\n",
       "      <td>12439</td>\n",
       "      <td>19840</td>\n",
       "      <td>1</td>\n",
       "      <td>7</td>\n",
       "      <td>300</td>\n",
       "      <td>9015</td>\n",
       "    </tr>\n",
       "    <tr>\n",
       "      <th>1</th>\n",
       "      <td>1168</td>\n",
       "      <td>207</td>\n",
       "      <td>latest</td>\n",
       "      <td>0</td>\n",
       "      <td>0</td>\n",
       "      <td>133380.0</td>\n",
       "      <td>12439</td>\n",
       "      <td>19840</td>\n",
       "      <td>1</td>\n",
       "      <td>7</td>\n",
       "      <td>300</td>\n",
       "      <td>9015</td>\n",
       "    </tr>\n",
       "    <tr>\n",
       "      <th>2</th>\n",
       "      <td>8114</td>\n",
       "      <td>385</td>\n",
       "      <td>latest</td>\n",
       "      <td>0</td>\n",
       "      <td>0</td>\n",
       "      <td>8160.0</td>\n",
       "      <td>12439</td>\n",
       "      <td>19840</td>\n",
       "      <td>1</td>\n",
       "      <td>7</td>\n",
       "      <td>300</td>\n",
       "      <td>9015</td>\n",
       "    </tr>\n",
       "    <tr>\n",
       "      <th>3</th>\n",
       "      <td>8114</td>\n",
       "      <td>385</td>\n",
       "      <td>latest</td>\n",
       "      <td>0</td>\n",
       "      <td>0</td>\n",
       "      <td>8520.0</td>\n",
       "      <td>12439</td>\n",
       "      <td>19840</td>\n",
       "      <td>1</td>\n",
       "      <td>7</td>\n",
       "      <td>300</td>\n",
       "      <td>9015</td>\n",
       "    </tr>\n",
       "    <tr>\n",
       "      <th>4</th>\n",
       "      <td>8114</td>\n",
       "      <td>385</td>\n",
       "      <td>latest</td>\n",
       "      <td>0</td>\n",
       "      <td>0</td>\n",
       "      <td>50640.0</td>\n",
       "      <td>12439</td>\n",
       "      <td>19840</td>\n",
       "      <td>1</td>\n",
       "      <td>7</td>\n",
       "      <td>300</td>\n",
       "      <td>9015</td>\n",
       "    </tr>\n",
       "  </tbody>\n",
       "</table>\n",
       "</div>"
      ],
      "text/plain": [
       "   user_id  app_code os_version  is_4G  is_click  log_time  item_id  \\\n",
       "0        0       207        old      0         0   28560.0    12439   \n",
       "1     1168       207     latest      0         0  133380.0    12439   \n",
       "2     8114       385     latest      0         0    8160.0    12439   \n",
       "3     8114       385     latest      0         0    8520.0    12439   \n",
       "4     8114       385     latest      0         0   50640.0    12439   \n",
       "\n",
       "   item_price  category_1  category_2  category_3  product_type  \n",
       "0       19840           1           7         300          9015  \n",
       "1       19840           1           7         300          9015  \n",
       "2       19840           1           7         300          9015  \n",
       "3       19840           1           7         300          9015  \n",
       "4       19840           1           7         300          9015  "
      ]
     },
     "execution_count": 192,
     "metadata": {},
     "output_type": "execute_result"
    }
   ],
   "source": [
    "data1.head()"
   ]
  },
  {
   "cell_type": "code",
   "execution_count": 199,
   "metadata": {},
   "outputs": [],
   "source": [
    "data1['os_version'] = pd.Categorical(data1['os_version'])"
   ]
  },
  {
   "cell_type": "code",
   "execution_count": 202,
   "metadata": {},
   "outputs": [
    {
     "data": {
      "text/plain": [
       "0            old\n",
       "1         latest\n",
       "2         latest\n",
       "3         latest\n",
       "4         latest\n",
       "           ...  \n",
       "235880       old\n",
       "235881    latest\n",
       "235882    latest\n",
       "235883    latest\n",
       "235884    latest\n",
       "Name: os_version, Length: 235885, dtype: category\n",
       "Categories (3, object): [intermediate, latest, old]"
      ]
     },
     "execution_count": 202,
     "metadata": {},
     "output_type": "execute_result"
    }
   ],
   "source": [
    "data1['os_version']"
   ]
  },
  {
   "cell_type": "code",
   "execution_count": 204,
   "metadata": {},
   "outputs": [
    {
     "data": {
      "text/plain": [
       "{0: 225085, 1: 10800}"
      ]
     },
     "execution_count": 204,
     "metadata": {},
     "output_type": "execute_result"
    }
   ],
   "source": [
    "data1['is_click'].value_counts().to_dict()"
   ]
  }
 ],
 "metadata": {
  "kernelspec": {
   "display_name": "Python 3",
   "language": "python",
   "name": "python3"
  },
  "language_info": {
   "codemirror_mode": {
    "name": "ipython",
    "version": 3
   },
   "file_extension": ".py",
   "mimetype": "text/x-python",
   "name": "python",
   "nbconvert_exporter": "python",
   "pygments_lexer": "ipython3",
   "version": "3.6.8"
  }
 },
 "nbformat": 4,
 "nbformat_minor": 2
}
