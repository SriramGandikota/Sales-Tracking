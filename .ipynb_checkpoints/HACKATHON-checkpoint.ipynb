{
 "cells": [
  {
   "cell_type": "code",
   "execution_count": 39,
   "metadata": {},
   "outputs": [],
   "source": [
    "#Importing required libraries\n",
    "import pandas as pd\n",
    "import numpy as np\n",
    "import os\n",
    "import time\n",
    "from datetime import datetime\n",
    "from tqdm import tqdm\n",
    "import tensorflow as tf\n",
    "from sklearn.utils import shuffle\n",
    "from sklearn.model_selection import train_test_split\n",
    "from tensorflow.keras.utils import to_categorical\n",
    "import matplotlib.pyplot as plt\n",
    "from sklearn.linear_model import LogisticRegression\n",
    "from sklearn.ensemble import VotingClassifier,RandomForestClassifier\n",
    "from sklearn.metrics import accuracy_score"
   ]
  },
  {
   "cell_type": "code",
   "execution_count": 2,
   "metadata": {},
   "outputs": [],
   "source": [
    "#required functions for convertign strings to required data \n",
    "#For example converting the string of date time to timestamp in second\n",
    "def convert_to_sec(l):\n",
    "    l = l.split(':')\n",
    "    t = int(l[2])\n",
    "    t += int(l[1])*60\n",
    "    t += int(l[0])*3600\n",
    "    return t\n",
    "def get_time_difference(x,y):\n",
    "    x = x.split(' ')\n",
    "    y = y.split(' ')\n",
    "    X = time.mktime(datetime.datetime.strptime(x[0], \"%Y-%m-%d\").timetuple())\n",
    "    Y = time.mktime(datetime.datetime.strptime(y[0], \"%Y-%m-%d\").timetuple())\n",
    "    a = (convert_to_sec(x[1]) - convert_to_sec(y[1]))\n",
    "    return (X-Y + a)"
   ]
  },
  {
   "cell_type": "code",
   "execution_count": 3,
   "metadata": {},
   "outputs": [],
   "source": [
    "#Loading the required data present across three input files\n",
    "impression_info = pd.read_csv('train.csv')\n",
    "user_info = pd.read_csv('view_log.csv')\n",
    "item_info = pd.read_csv('item_data.csv')"
   ]
  },
  {
   "cell_type": "markdown",
   "metadata": {},
   "source": [
    "# Exploratory Data Analysis\n"
   ]
  },
  {
   "cell_type": "code",
   "execution_count": 4,
   "metadata": {},
   "outputs": [
    {
     "data": {
      "text/html": [
       "<div>\n",
       "<style scoped>\n",
       "    .dataframe tbody tr th:only-of-type {\n",
       "        vertical-align: middle;\n",
       "    }\n",
       "\n",
       "    .dataframe tbody tr th {\n",
       "        vertical-align: top;\n",
       "    }\n",
       "\n",
       "    .dataframe thead th {\n",
       "        text-align: right;\n",
       "    }\n",
       "</style>\n",
       "<table border=\"1\" class=\"dataframe\">\n",
       "  <thead>\n",
       "    <tr style=\"text-align: right;\">\n",
       "      <th></th>\n",
       "      <th>impression_id</th>\n",
       "      <th>impression_time</th>\n",
       "      <th>user_id</th>\n",
       "      <th>app_code</th>\n",
       "      <th>os_version</th>\n",
       "      <th>is_4G</th>\n",
       "      <th>is_click</th>\n",
       "    </tr>\n",
       "  </thead>\n",
       "  <tbody>\n",
       "    <tr>\n",
       "      <th>104312</th>\n",
       "      <td>5f98c2c31a8006e510448c02ec74d50f</td>\n",
       "      <td>2018-11-26 23:30:00</td>\n",
       "      <td>0</td>\n",
       "      <td>207</td>\n",
       "      <td>old</td>\n",
       "      <td>0</td>\n",
       "      <td>0</td>\n",
       "    </tr>\n",
       "    <tr>\n",
       "      <th>49515</th>\n",
       "      <td>2b12c0d47f5821a5adb3bfd973d0f708</td>\n",
       "      <td>2018-11-19 20:49:00</td>\n",
       "      <td>2</td>\n",
       "      <td>190</td>\n",
       "      <td>intermediate</td>\n",
       "      <td>0</td>\n",
       "      <td>0</td>\n",
       "    </tr>\n",
       "    <tr>\n",
       "      <th>54202</th>\n",
       "      <td>f85e4bf0e34f3ee66add56229845e4db</td>\n",
       "      <td>2018-11-20 20:29:00</td>\n",
       "      <td>2</td>\n",
       "      <td>190</td>\n",
       "      <td>intermediate</td>\n",
       "      <td>0</td>\n",
       "      <td>0</td>\n",
       "    </tr>\n",
       "    <tr>\n",
       "      <th>24562</th>\n",
       "      <td>010ed37e44e2fdc175b4c5c6c930805a</td>\n",
       "      <td>2018-11-20 20:53:00</td>\n",
       "      <td>2</td>\n",
       "      <td>190</td>\n",
       "      <td>intermediate</td>\n",
       "      <td>0</td>\n",
       "      <td>0</td>\n",
       "    </tr>\n",
       "    <tr>\n",
       "      <th>78666</th>\n",
       "      <td>577c63f9937fa0e8d4650ddf1510a03f</td>\n",
       "      <td>2018-11-21 21:47:00</td>\n",
       "      <td>2</td>\n",
       "      <td>190</td>\n",
       "      <td>intermediate</td>\n",
       "      <td>0</td>\n",
       "      <td>0</td>\n",
       "    </tr>\n",
       "  </tbody>\n",
       "</table>\n",
       "</div>"
      ],
      "text/plain": [
       "                           impression_id      impression_time  user_id  \\\n",
       "104312  5f98c2c31a8006e510448c02ec74d50f  2018-11-26 23:30:00        0   \n",
       "49515   2b12c0d47f5821a5adb3bfd973d0f708  2018-11-19 20:49:00        2   \n",
       "54202   f85e4bf0e34f3ee66add56229845e4db  2018-11-20 20:29:00        2   \n",
       "24562   010ed37e44e2fdc175b4c5c6c930805a  2018-11-20 20:53:00        2   \n",
       "78666   577c63f9937fa0e8d4650ddf1510a03f  2018-11-21 21:47:00        2   \n",
       "\n",
       "        app_code    os_version  is_4G  is_click  \n",
       "104312       207           old      0         0  \n",
       "49515        190  intermediate      0         0  \n",
       "54202        190  intermediate      0         0  \n",
       "24562        190  intermediate      0         0  \n",
       "78666        190  intermediate      0         0  "
      ]
     },
     "execution_count": 4,
     "metadata": {},
     "output_type": "execute_result"
    }
   ],
   "source": [
    "#impression information after sorting\n",
    "impression_info.sort_values(by =['user_id','impression_time'],inplace=True)\n",
    "impression_info.head()"
   ]
  },
  {
   "cell_type": "code",
   "execution_count": 5,
   "metadata": {},
   "outputs": [
    {
     "data": {
      "text/html": [
       "<div>\n",
       "<style scoped>\n",
       "    .dataframe tbody tr th:only-of-type {\n",
       "        vertical-align: middle;\n",
       "    }\n",
       "\n",
       "    .dataframe tbody tr th {\n",
       "        vertical-align: top;\n",
       "    }\n",
       "\n",
       "    .dataframe thead th {\n",
       "        text-align: right;\n",
       "    }\n",
       "</style>\n",
       "<table border=\"1\" class=\"dataframe\">\n",
       "  <thead>\n",
       "    <tr style=\"text-align: right;\">\n",
       "      <th></th>\n",
       "      <th>server_time</th>\n",
       "      <th>device_type</th>\n",
       "      <th>session_id</th>\n",
       "      <th>user_id</th>\n",
       "      <th>item_id</th>\n",
       "    </tr>\n",
       "  </thead>\n",
       "  <tbody>\n",
       "    <tr>\n",
       "      <th>163910</th>\n",
       "      <td>2018-10-18 14:27:00</td>\n",
       "      <td>android</td>\n",
       "      <td>268465</td>\n",
       "      <td>0</td>\n",
       "      <td>44459</td>\n",
       "    </tr>\n",
       "    <tr>\n",
       "      <th>163921</th>\n",
       "      <td>2018-10-18 14:27:00</td>\n",
       "      <td>android</td>\n",
       "      <td>268465</td>\n",
       "      <td>0</td>\n",
       "      <td>44459</td>\n",
       "    </tr>\n",
       "    <tr>\n",
       "      <th>164584</th>\n",
       "      <td>2018-10-18 14:43:00</td>\n",
       "      <td>android</td>\n",
       "      <td>268465</td>\n",
       "      <td>0</td>\n",
       "      <td>44459</td>\n",
       "    </tr>\n",
       "    <tr>\n",
       "      <th>164700</th>\n",
       "      <td>2018-10-18 14:46:00</td>\n",
       "      <td>android</td>\n",
       "      <td>268465</td>\n",
       "      <td>0</td>\n",
       "      <td>44459</td>\n",
       "    </tr>\n",
       "    <tr>\n",
       "      <th>164729</th>\n",
       "      <td>2018-10-18 14:46:00</td>\n",
       "      <td>android</td>\n",
       "      <td>268465</td>\n",
       "      <td>0</td>\n",
       "      <td>44459</td>\n",
       "    </tr>\n",
       "  </tbody>\n",
       "</table>\n",
       "</div>"
      ],
      "text/plain": [
       "                server_time device_type  session_id  user_id  item_id\n",
       "163910  2018-10-18 14:27:00     android      268465        0    44459\n",
       "163921  2018-10-18 14:27:00     android      268465        0    44459\n",
       "164584  2018-10-18 14:43:00     android      268465        0    44459\n",
       "164700  2018-10-18 14:46:00     android      268465        0    44459\n",
       "164729  2018-10-18 14:46:00     android      268465        0    44459"
      ]
     },
     "execution_count": 5,
     "metadata": {},
     "output_type": "execute_result"
    }
   ],
   "source": [
    "#view log information of the user after sorting\n",
    "user_info.sort_values(by =['user_id','server_time'],inplace=True)\n",
    "user_info.head()"
   ]
  },
  {
   "cell_type": "code",
   "execution_count": 6,
   "metadata": {},
   "outputs": [
    {
     "data": {
      "text/html": [
       "<div>\n",
       "<style scoped>\n",
       "    .dataframe tbody tr th:only-of-type {\n",
       "        vertical-align: middle;\n",
       "    }\n",
       "\n",
       "    .dataframe tbody tr th {\n",
       "        vertical-align: top;\n",
       "    }\n",
       "\n",
       "    .dataframe thead th {\n",
       "        text-align: right;\n",
       "    }\n",
       "</style>\n",
       "<table border=\"1\" class=\"dataframe\">\n",
       "  <thead>\n",
       "    <tr style=\"text-align: right;\">\n",
       "      <th></th>\n",
       "      <th>item_id</th>\n",
       "      <th>item_price</th>\n",
       "      <th>category_1</th>\n",
       "      <th>category_2</th>\n",
       "      <th>category_3</th>\n",
       "      <th>product_type</th>\n",
       "    </tr>\n",
       "  </thead>\n",
       "  <tbody>\n",
       "    <tr>\n",
       "      <th>0</th>\n",
       "      <td>26880</td>\n",
       "      <td>4602</td>\n",
       "      <td>11</td>\n",
       "      <td>35</td>\n",
       "      <td>20</td>\n",
       "      <td>3040</td>\n",
       "    </tr>\n",
       "    <tr>\n",
       "      <th>1</th>\n",
       "      <td>54939</td>\n",
       "      <td>3513</td>\n",
       "      <td>12</td>\n",
       "      <td>57</td>\n",
       "      <td>85</td>\n",
       "      <td>6822</td>\n",
       "    </tr>\n",
       "    <tr>\n",
       "      <th>2</th>\n",
       "      <td>40383</td>\n",
       "      <td>825</td>\n",
       "      <td>17</td>\n",
       "      <td>8</td>\n",
       "      <td>279</td>\n",
       "      <td>1619</td>\n",
       "    </tr>\n",
       "    <tr>\n",
       "      <th>3</th>\n",
       "      <td>8777</td>\n",
       "      <td>2355</td>\n",
       "      <td>13</td>\n",
       "      <td>58</td>\n",
       "      <td>189</td>\n",
       "      <td>5264</td>\n",
       "    </tr>\n",
       "    <tr>\n",
       "      <th>4</th>\n",
       "      <td>113705</td>\n",
       "      <td>1267</td>\n",
       "      <td>17</td>\n",
       "      <td>39</td>\n",
       "      <td>151</td>\n",
       "      <td>10239</td>\n",
       "    </tr>\n",
       "  </tbody>\n",
       "</table>\n",
       "</div>"
      ],
      "text/plain": [
       "   item_id  item_price  category_1  category_2  category_3  product_type\n",
       "0    26880        4602          11          35          20          3040\n",
       "1    54939        3513          12          57          85          6822\n",
       "2    40383         825          17           8         279          1619\n",
       "3     8777        2355          13          58         189          5264\n",
       "4   113705        1267          17          39         151         10239"
      ]
     },
     "execution_count": 6,
     "metadata": {},
     "output_type": "execute_result"
    }
   ],
   "source": [
    "#item information\n",
    "item_info.head()"
   ]
  },
  {
   "cell_type": "code",
   "execution_count": 7,
   "metadata": {},
   "outputs": [],
   "source": [
    "# since the preprocessing takes a lot of time we have files that have preprocessed data"
   ]
  },
  {
   "cell_type": "code",
   "execution_count": 9,
   "metadata": {},
   "outputs": [
    {
     "name": "stdout",
     "output_type": "stream",
     "text": [
      "Impression Info (237609, 7) \n",
      "User Info (3118622, 5) \n",
      "Item Info (132761, 6)\n"
     ]
    }
   ],
   "source": [
    "#Size of the data\n",
    "print('Impression Info {} \\nUser Info {} \\nItem Info {}'.format(impression_info.shape,user_info.shape,item_info.shape) )"
   ]
  },
  {
   "cell_type": "markdown",
   "metadata": {},
   "source": [
    "## Exploration of the Data"
   ]
  },
  {
   "cell_type": "markdown",
   "metadata": {},
   "source": [
    "As we saw that the data needs to be merged together to make sense of it. Hence we have followed a procedure that has been exaplained in the report in detailed."
   ]
  },
  {
   "cell_type": "code",
   "execution_count": 11,
   "metadata": {},
   "outputs": [
    {
     "name": "stdout",
     "output_type": "stream",
     "text": [
      "Number of Users whose information is missing = 0\n",
      "\n"
     ]
    }
   ],
   "source": [
    "#Number of users in the impression info whose information is not in user info (if any)\n",
    "cnt = 0\n",
    "for user in impression_info['user_id']:\n",
    "    if(user not in user_info['user_id']):\n",
    "        cnt+=1\n",
    "print(\"Number of Users whose information is missing = {}\\n\".format(cnt))"
   ]
  },
  {
   "cell_type": "code",
   "execution_count": null,
   "metadata": {},
   "outputs": [],
   "source": [
    "# NO NEED TO RUN THIS CELL TO TEST THE MODEL\n",
    "# This cell contains the implementation of the function that is extracting an important new feature that is\n",
    "# described in the report as \"Time duration between log time and impression time\".\n",
    "ind1 = 0\n",
    "log_time = []\n",
    "is_new = []\n",
    "curr_item = []\n",
    "s = \"-1\"\n",
    "prev_user = -1\n",
    "prev_item = -1\n",
    "for ind in range(0,impression_info.shape[0]):\n",
    "    if(ind1==user_info.shape[0]):\n",
    "        break\n",
    "    if(prev_user!=impression_info['user_id'].values[ind]):\n",
    "        s=\"-1\"\n",
    "        prev_user = -1\n",
    "        prev_item=  -1\n",
    "    while(impression_info['user_id'].values[ind]>user_info['user_id'].values[ind1]):\n",
    "        ind1+=1\n",
    "    while(get_time_difference(impression_info['impression_time'].values[ind],user_info['server_time'].values[ind1])>=0\n",
    "         and impression_info['user_id'].values[ind]==user_info['user_id'].values[ind1]):\n",
    "        s = user_info['server_time'].values[ind1]\n",
    "        prev_user = user_info['user_id'].values[ind1]\n",
    "        prev_item = user_info['item_id'].values[ind1]\n",
    "        ind1+=1\n",
    "    if(s==\"-1\"):\n",
    "        log_time.append(-1)\n",
    "        is_new.append(1)\n",
    "        curr_item.append(prev_item)\n",
    "    else:\n",
    "        is_new.append(0)\n",
    "        log_time.append(get_time_difference(impression_info['impression_time'].values[ind],s))\n",
    "        curr_item.append(prev_item)\n",
    "        ind1-=1"
   ]
  },
  {
   "cell_type": "code",
   "execution_count": null,
   "metadata": {},
   "outputs": [],
   "source": [
    "# NO NEED TO RUN THIS CELL TO TEST THE MODEL\n",
    "# Adding the newly calculated features to the data frame.\n",
    "data = impression_info\n",
    "data['log_time'] = log_time\n",
    "data['item_id'] = curr_item"
   ]
  },
  {
   "cell_type": "code",
   "execution_count": null,
   "metadata": {},
   "outputs": [],
   "source": [
    "# NO NEED TO RUN THIS CELL TO TEST THE MODEL\n",
    "#merging the data frames based on items that the given user might have seen\n",
    "#in the most recent log\n",
    "data = pd.merge(data,item_info,on='item_id')"
   ]
  },
  {
   "cell_type": "code",
   "execution_count": null,
   "metadata": {},
   "outputs": [],
   "source": [
    "# NO NEED TO RUN THIS CELL TO TEST THE MODEL\n",
    "# One of the columns in the data has string values and hence we are mapping them to integer values.\n",
    "data1['os_version'] = data1['os_version'].map({'old':1,'latest':2,'intermediate':3}).astype(int)\n",
    "#Dropping columns that do not add any information to the data \n",
    "data1 = data.drop(columns = ['impression_id','impression_time']) \n",
    "#Saving the cumulative data into a new file\n",
    "data1.to_csv('Further_Prepreocessed_data.csv')\n",
    "# We split the 'Further_Prepreocessed_data.csv' file into two seperate files with only positive and only negative\n",
    "# examples for a better understanding."
   ]
  },
  {
   "cell_type": "code",
   "execution_count": 41,
   "metadata": {},
   "outputs": [],
   "source": [
    "# Reading positive and negative examples.\n",
    "data0 = pd.read_csv('negatives.csv')\n",
    "data1 = pd.read_csv('positives.csv')"
   ]
  },
  {
   "cell_type": "code",
   "execution_count": 42,
   "metadata": {},
   "outputs": [
    {
     "name": "stdout",
     "output_type": "stream",
     "text": [
      "Negative examples =  (225085, 16) \n",
      "Positive examples =  (10800, 16)\n"
     ]
    }
   ],
   "source": [
    "# Printing the number of positive and negative examples\n",
    "print(\"Negative examples = \",data0.shape,\"\\nPositive examples = \",data1.shape)\n",
    "# We can see that the data is very skewed as only 5% of the data are positive examples and the rest are negative examples"
   ]
  },
  {
   "cell_type": "code",
   "execution_count": 43,
   "metadata": {},
   "outputs": [],
   "source": [
    "# One of the columns in the data has string values and hence we are mapping them to integer values.\n",
    "data0['os_version'] = data0['os_version'].map({'old':1,'latest':2,'intermediate':3}).astype(int)\n",
    "data1['os_version'] = data1['os_version'].map({'old':1,'latest':2,'intermediate':3}).astype(int)"
   ]
  },
  {
   "cell_type": "code",
   "execution_count": 44,
   "metadata": {},
   "outputs": [],
   "source": [
    "# Normalizing the data\n",
    "for i in data0.columns:\n",
    "    if(i != 'is_click'):\n",
    "        data0_norm[i] = (data0[i]-data0[i].mean())/data0[i].std()\n",
    "        data1_norm[i] = (data1[i]-data1[i].mean())/data1[i].std()\n",
    "    else:\n",
    "        data0_norm[i] = data0[i]\n",
    "        data1_norm[i] = data1[i]"
   ]
  },
  {
   "cell_type": "code",
   "execution_count": 45,
   "metadata": {},
   "outputs": [],
   "source": [
    "data0_norm.drop(columns=data0_norm.columns[:3],inplace=True)\n",
    "data1_norm.drop(columns=data1_norm.columns[:3],inplace=True)"
   ]
  },
  {
   "cell_type": "code",
   "execution_count": 57,
   "metadata": {},
   "outputs": [],
   "source": [
    "data = []\n",
    "j = 0\n",
    "i = 0\n",
    "while(i<=data0.shape[0] and j<20):\n",
    "    data.append(data0[i:i+10000])\n",
    "    i += 10000\n",
    "    j += 1"
   ]
  },
  {
   "cell_type": "code",
   "execution_count": 58,
   "metadata": {},
   "outputs": [
    {
     "data": {
      "text/plain": [
       "20"
      ]
     },
     "execution_count": 58,
     "metadata": {},
     "output_type": "execute_result"
    }
   ],
   "source": [
    "len(data)"
   ]
  },
  {
   "cell_type": "markdown",
   "metadata": {},
   "source": [
    "# Model Training and Building"
   ]
  },
  {
   "cell_type": "code",
   "execution_count": 60,
   "metadata": {},
   "outputs": [
    {
     "name": "stderr",
     "output_type": "stream",
     "text": [
      "/home/byte-rider/.local/lib/python3.6/site-packages/sklearn/linear_model/logistic.py:432: FutureWarning: Default solver will be changed to 'lbfgs' in 0.22. Specify a solver to silence this warning.\n",
      "  FutureWarning)\n",
      "/home/byte-rider/.local/lib/python3.6/site-packages/sklearn/ensemble/forest.py:245: FutureWarning: The default value of n_estimators will change from 10 in version 0.20 to 100 in 0.22.\n",
      "  \"10 in version 0.20 to 100 in 0.22.\", FutureWarning)\n",
      "/home/byte-rider/.local/lib/python3.6/site-packages/sklearn/linear_model/logistic.py:432: FutureWarning: Default solver will be changed to 'lbfgs' in 0.22. Specify a solver to silence this warning.\n",
      "  FutureWarning)\n",
      "/home/byte-rider/.local/lib/python3.6/site-packages/sklearn/ensemble/forest.py:245: FutureWarning: The default value of n_estimators will change from 10 in version 0.20 to 100 in 0.22.\n",
      "  \"10 in version 0.20 to 100 in 0.22.\", FutureWarning)\n",
      "/home/byte-rider/.local/lib/python3.6/site-packages/sklearn/linear_model/logistic.py:432: FutureWarning: Default solver will be changed to 'lbfgs' in 0.22. Specify a solver to silence this warning.\n",
      "  FutureWarning)\n",
      "/home/byte-rider/.local/lib/python3.6/site-packages/sklearn/ensemble/forest.py:245: FutureWarning: The default value of n_estimators will change from 10 in version 0.20 to 100 in 0.22.\n",
      "  \"10 in version 0.20 to 100 in 0.22.\", FutureWarning)\n",
      "/home/byte-rider/.local/lib/python3.6/site-packages/sklearn/linear_model/logistic.py:432: FutureWarning: Default solver will be changed to 'lbfgs' in 0.22. Specify a solver to silence this warning.\n",
      "  FutureWarning)\n",
      "/home/byte-rider/.local/lib/python3.6/site-packages/sklearn/ensemble/forest.py:245: FutureWarning: The default value of n_estimators will change from 10 in version 0.20 to 100 in 0.22.\n",
      "  \"10 in version 0.20 to 100 in 0.22.\", FutureWarning)\n",
      "/home/byte-rider/.local/lib/python3.6/site-packages/sklearn/linear_model/logistic.py:432: FutureWarning: Default solver will be changed to 'lbfgs' in 0.22. Specify a solver to silence this warning.\n",
      "  FutureWarning)\n",
      "/home/byte-rider/.local/lib/python3.6/site-packages/sklearn/ensemble/forest.py:245: FutureWarning: The default value of n_estimators will change from 10 in version 0.20 to 100 in 0.22.\n",
      "  \"10 in version 0.20 to 100 in 0.22.\", FutureWarning)\n",
      "/home/byte-rider/.local/lib/python3.6/site-packages/sklearn/linear_model/logistic.py:432: FutureWarning: Default solver will be changed to 'lbfgs' in 0.22. Specify a solver to silence this warning.\n",
      "  FutureWarning)\n",
      "/home/byte-rider/.local/lib/python3.6/site-packages/sklearn/ensemble/forest.py:245: FutureWarning: The default value of n_estimators will change from 10 in version 0.20 to 100 in 0.22.\n",
      "  \"10 in version 0.20 to 100 in 0.22.\", FutureWarning)\n",
      "/home/byte-rider/.local/lib/python3.6/site-packages/sklearn/linear_model/logistic.py:432: FutureWarning: Default solver will be changed to 'lbfgs' in 0.22. Specify a solver to silence this warning.\n",
      "  FutureWarning)\n",
      "/home/byte-rider/.local/lib/python3.6/site-packages/sklearn/ensemble/forest.py:245: FutureWarning: The default value of n_estimators will change from 10 in version 0.20 to 100 in 0.22.\n",
      "  \"10 in version 0.20 to 100 in 0.22.\", FutureWarning)\n",
      "/home/byte-rider/.local/lib/python3.6/site-packages/sklearn/linear_model/logistic.py:432: FutureWarning: Default solver will be changed to 'lbfgs' in 0.22. Specify a solver to silence this warning.\n",
      "  FutureWarning)\n",
      "/home/byte-rider/.local/lib/python3.6/site-packages/sklearn/ensemble/forest.py:245: FutureWarning: The default value of n_estimators will change from 10 in version 0.20 to 100 in 0.22.\n",
      "  \"10 in version 0.20 to 100 in 0.22.\", FutureWarning)\n",
      "/home/byte-rider/.local/lib/python3.6/site-packages/sklearn/linear_model/logistic.py:432: FutureWarning: Default solver will be changed to 'lbfgs' in 0.22. Specify a solver to silence this warning.\n",
      "  FutureWarning)\n",
      "/home/byte-rider/.local/lib/python3.6/site-packages/sklearn/ensemble/forest.py:245: FutureWarning: The default value of n_estimators will change from 10 in version 0.20 to 100 in 0.22.\n",
      "  \"10 in version 0.20 to 100 in 0.22.\", FutureWarning)\n",
      "/home/byte-rider/.local/lib/python3.6/site-packages/sklearn/linear_model/logistic.py:432: FutureWarning: Default solver will be changed to 'lbfgs' in 0.22. Specify a solver to silence this warning.\n",
      "  FutureWarning)\n",
      "/home/byte-rider/.local/lib/python3.6/site-packages/sklearn/ensemble/forest.py:245: FutureWarning: The default value of n_estimators will change from 10 in version 0.20 to 100 in 0.22.\n",
      "  \"10 in version 0.20 to 100 in 0.22.\", FutureWarning)\n",
      "/home/byte-rider/.local/lib/python3.6/site-packages/sklearn/linear_model/logistic.py:432: FutureWarning: Default solver will be changed to 'lbfgs' in 0.22. Specify a solver to silence this warning.\n",
      "  FutureWarning)\n",
      "/home/byte-rider/.local/lib/python3.6/site-packages/sklearn/ensemble/forest.py:245: FutureWarning: The default value of n_estimators will change from 10 in version 0.20 to 100 in 0.22.\n",
      "  \"10 in version 0.20 to 100 in 0.22.\", FutureWarning)\n",
      "/home/byte-rider/.local/lib/python3.6/site-packages/sklearn/linear_model/logistic.py:432: FutureWarning: Default solver will be changed to 'lbfgs' in 0.22. Specify a solver to silence this warning.\n",
      "  FutureWarning)\n",
      "/home/byte-rider/.local/lib/python3.6/site-packages/sklearn/ensemble/forest.py:245: FutureWarning: The default value of n_estimators will change from 10 in version 0.20 to 100 in 0.22.\n",
      "  \"10 in version 0.20 to 100 in 0.22.\", FutureWarning)\n",
      "/home/byte-rider/.local/lib/python3.6/site-packages/sklearn/linear_model/logistic.py:432: FutureWarning: Default solver will be changed to 'lbfgs' in 0.22. Specify a solver to silence this warning.\n",
      "  FutureWarning)\n",
      "/home/byte-rider/.local/lib/python3.6/site-packages/sklearn/ensemble/forest.py:245: FutureWarning: The default value of n_estimators will change from 10 in version 0.20 to 100 in 0.22.\n",
      "  \"10 in version 0.20 to 100 in 0.22.\", FutureWarning)\n",
      "/home/byte-rider/.local/lib/python3.6/site-packages/sklearn/linear_model/logistic.py:432: FutureWarning: Default solver will be changed to 'lbfgs' in 0.22. Specify a solver to silence this warning.\n",
      "  FutureWarning)\n",
      "/home/byte-rider/.local/lib/python3.6/site-packages/sklearn/ensemble/forest.py:245: FutureWarning: The default value of n_estimators will change from 10 in version 0.20 to 100 in 0.22.\n",
      "  \"10 in version 0.20 to 100 in 0.22.\", FutureWarning)\n",
      "/home/byte-rider/.local/lib/python3.6/site-packages/sklearn/linear_model/logistic.py:432: FutureWarning: Default solver will be changed to 'lbfgs' in 0.22. Specify a solver to silence this warning.\n",
      "  FutureWarning)\n",
      "/home/byte-rider/.local/lib/python3.6/site-packages/sklearn/ensemble/forest.py:245: FutureWarning: The default value of n_estimators will change from 10 in version 0.20 to 100 in 0.22.\n",
      "  \"10 in version 0.20 to 100 in 0.22.\", FutureWarning)\n",
      "/home/byte-rider/.local/lib/python3.6/site-packages/sklearn/linear_model/logistic.py:432: FutureWarning: Default solver will be changed to 'lbfgs' in 0.22. Specify a solver to silence this warning.\n",
      "  FutureWarning)\n",
      "/home/byte-rider/.local/lib/python3.6/site-packages/sklearn/ensemble/forest.py:245: FutureWarning: The default value of n_estimators will change from 10 in version 0.20 to 100 in 0.22.\n",
      "  \"10 in version 0.20 to 100 in 0.22.\", FutureWarning)\n",
      "/home/byte-rider/.local/lib/python3.6/site-packages/sklearn/linear_model/logistic.py:432: FutureWarning: Default solver will be changed to 'lbfgs' in 0.22. Specify a solver to silence this warning.\n",
      "  FutureWarning)\n",
      "/home/byte-rider/.local/lib/python3.6/site-packages/sklearn/ensemble/forest.py:245: FutureWarning: The default value of n_estimators will change from 10 in version 0.20 to 100 in 0.22.\n",
      "  \"10 in version 0.20 to 100 in 0.22.\", FutureWarning)\n",
      "/home/byte-rider/.local/lib/python3.6/site-packages/sklearn/linear_model/logistic.py:432: FutureWarning: Default solver will be changed to 'lbfgs' in 0.22. Specify a solver to silence this warning.\n",
      "  FutureWarning)\n",
      "/home/byte-rider/.local/lib/python3.6/site-packages/sklearn/ensemble/forest.py:245: FutureWarning: The default value of n_estimators will change from 10 in version 0.20 to 100 in 0.22.\n",
      "  \"10 in version 0.20 to 100 in 0.22.\", FutureWarning)\n",
      "/home/byte-rider/.local/lib/python3.6/site-packages/sklearn/linear_model/logistic.py:432: FutureWarning: Default solver will be changed to 'lbfgs' in 0.22. Specify a solver to silence this warning.\n",
      "  FutureWarning)\n",
      "/home/byte-rider/.local/lib/python3.6/site-packages/sklearn/ensemble/forest.py:245: FutureWarning: The default value of n_estimators will change from 10 in version 0.20 to 100 in 0.22.\n",
      "  \"10 in version 0.20 to 100 in 0.22.\", FutureWarning)\n"
     ]
    },
    {
     "name": "stderr",
     "output_type": "stream",
     "text": [
      "/home/byte-rider/.local/lib/python3.6/site-packages/sklearn/linear_model/logistic.py:432: FutureWarning: Default solver will be changed to 'lbfgs' in 0.22. Specify a solver to silence this warning.\n",
      "  FutureWarning)\n",
      "/home/byte-rider/.local/lib/python3.6/site-packages/sklearn/ensemble/forest.py:245: FutureWarning: The default value of n_estimators will change from 10 in version 0.20 to 100 in 0.22.\n",
      "  \"10 in version 0.20 to 100 in 0.22.\", FutureWarning)\n"
     ]
    },
    {
     "name": "stdout",
     "output_type": "stream",
     "text": [
      "0.960673076923077\n"
     ]
    }
   ],
   "source": [
    "# Building multiple models for prediction.\n",
    "# We tried running the models on normalized data but the resluts were not as good as un-normalized data. This is\n",
    "# probably because many columns have categorical data.\n",
    "from sklearn.decomposition import PCA \n",
    "from xgboost import XGBClassifier\n",
    "pca = PCA(n_components = 7) \n",
    "  \n",
    "p = []\n",
    "overall = 0\n",
    "for i in range(0,20):\n",
    "    train = pd.concat([data1,data[i]])\n",
    "    Y = train['is_click']\n",
    "    del train['is_click'] \n",
    "    train_x,test_x,train_y,test_y = train_test_split(train,Y,test_size=0.1,random_state=67)\n",
    "    #pca\n",
    "    train_x = pca.fit_transform(train_x) \n",
    "    test_x = pca.transform(test_x)\n",
    "    model1 = LogisticRegression()    \n",
    "    model2 = RandomForestClassifier()    \n",
    "    model3 = XGBClassifier()\n",
    "    model4 = VotingClassifier(estimators=[('lr',model1),('ran',model2),('xgb',model3)],voting='soft')\n",
    "\n",
    "    model4.fit(train_x,train_y)\n",
    "    overall += accuracy_score(model4.predict(test_x),test_y)\n",
    "print(overall/20.0)"
   ]
  },
  {
   "cell_type": "code",
   "execution_count": null,
   "metadata": {},
   "outputs": [],
   "source": []
  },
  {
   "cell_type": "code",
   "execution_count": null,
   "metadata": {},
   "outputs": [],
   "source": []
  },
  {
   "cell_type": "code",
   "execution_count": null,
   "metadata": {},
   "outputs": [],
   "source": []
  }
 ],
 "metadata": {
  "kernelspec": {
   "display_name": "Python 3",
   "language": "python",
   "name": "python3"
  },
  "language_info": {
   "codemirror_mode": {
    "name": "ipython",
    "version": 3
   },
   "file_extension": ".py",
   "mimetype": "text/x-python",
   "name": "python",
   "nbconvert_exporter": "python",
   "pygments_lexer": "ipython3",
   "version": "3.6.8"
  }
 },
 "nbformat": 4,
 "nbformat_minor": 2
}
